{
  "nbformat": 4,
  "nbformat_minor": 0,
  "metadata": {
    "colab": {
      "provenance": [],
      "authorship_tag": "ABX9TyPQudBoqIEJBLpSTaBndzTS",
      "include_colab_link": true
    },
    "kernelspec": {
      "name": "python3",
      "display_name": "Python 3"
    },
    "language_info": {
      "name": "python"
    }
  },
  "cells": [
    {
      "cell_type": "markdown",
      "metadata": {
        "id": "view-in-github",
        "colab_type": "text"
      },
      "source": [
        "<a href=\"https://colab.research.google.com/github/dusarp/dance-bits-experiments/blob/main/spectrogram_with_parameters.ipynb\" target=\"_parent\"><img src=\"https://colab.research.google.com/assets/colab-badge.svg\" alt=\"Open In Colab\"/></a>"
      ]
    },
    {
      "cell_type": "code",
      "source": [
        "import librosa\n",
        "import librosa.display\n",
        "import matplotlib.pyplot as plt\n",
        "import numpy as np\n",
        "\n",
        "# Load audio file\n",
        "y, sr = librosa.load('path/to/audio/file.mp3', sr=22050)\n",
        "\n",
        "# Define parameters\n",
        "n_fft = 2048\n",
        "hop_length = 512\n",
        "n_mels = 128\n",
        "fmin = 0\n",
        "fmax = sr / 2  # Nyquist frequency\n",
        "\n",
        "# Generate Mel spectrogram\n",
        "mel_spectrogram = librosa.feature.melspectrogram(y=y, sr=sr, n_fft=n_fft, hop_length=hop_length, n_mels=n_mels, fmin=fmin, fmax=fmax)\n",
        "\n",
        "# Convert to decibels\n",
        "mel_spectrogram_db = librosa.power_to_db(mel_spectrogram, ref=np.max)\n",
        "\n",
        "# Plot Mel spectrogram\n",
        "plt.figure(figsize=(10, 4))\n",
        "librosa.display.specshow(mel_spectrogram_db, x_axis='time', y_axis='mel', sr=sr, cmap='viridis')\n",
        "plt.colorbar(format='%+2.0f dB')\n",
        "plt.title('Mel Spectrogram')\n",
        "plt.show()"
      ],
      "metadata": {
        "id": "knC1y9ytQQqy"
      },
      "execution_count": null,
      "outputs": []
    },
    {
      "cell_type": "markdown",
      "source": [
        "To use additional parameters in Librosa while creating Mel spectrograms, you can customize several key parameters that affect the analysis. Here’s a breakdown of how to do this effectively:\n",
        "**Key Parameters**\n",
        "*Sampling Rate (sr)*: This is the rate at which the audio signal is sampled. The\n",
        "default value is typically 22050 Hz, but you can change it based on your audio file's specifications.\n",
        "*Window Length (n_fft)*: This parameter defines the number of samples in each frame for the Short-Time Fourier Transform (STFT). A common default is 2048, but you may want to adjust it for higher or lower frequency resolution.\n",
        "*Hop Length (hop_length)*: This is the number of samples between consecutive frames. The default is usually 512. A smaller hop length provides better time resolution but increases computational load.\n",
        "Mel Filter Bank Parameters: When generating a Mel spectrogram, you can specify the number of *Mel bands (n_mels)*, and the *minimum and maximum frequencies (fmin and fmax)* for the Mel scale."
      ],
      "metadata": {
        "id": "tscpU8WCQe6A"
      }
    },
    {
      "cell_type": "code",
      "source": [],
      "metadata": {
        "id": "QtdMLQA6QoEc"
      },
      "execution_count": null,
      "outputs": []
    }
  ]
}