{
  "nbformat": 4,
  "nbformat_minor": 0,
  "metadata": {
    "colab": {
      "provenance": [],
      "authorship_tag": "ABX9TyPvi2HmkKgYlKneCKdV0x1+",
      "include_colab_link": true
    },
    "kernelspec": {
      "name": "python3",
      "display_name": "Python 3"
    },
    "language_info": {
      "name": "python"
    }
  },
  "cells": [
    {
      "cell_type": "markdown",
      "metadata": {
        "id": "view-in-github",
        "colab_type": "text"
      },
      "source": [
        "<a href=\"https://colab.research.google.com/github/dusarp/dance-bits-experiments/blob/main/bone_vectors_pickle.ipynb\" target=\"_parent\"><img src=\"https://colab.research.google.com/assets/colab-badge.svg\" alt=\"Open In Colab\"/></a>"
      ]
    },
    {
      "cell_type": "code",
      "execution_count": 1,
      "metadata": {
        "id": "pWJu9puA-YXj"
      },
      "outputs": [],
      "source": [
        "import pickle\n",
        "import numpy as np"
      ]
    },
    {
      "cell_type": "code",
      "source": [
        "#mount Google Drive\n",
        "from google.colab import drive\n",
        "drive.mount('/content/gdrive')"
      ],
      "metadata": {
        "colab": {
          "base_uri": "https://localhost:8080/"
        },
        "id": "8CLDYC12-duS",
        "outputId": "7b25edc7-9efe-432c-828d-678aa883a6de"
      },
      "execution_count": 2,
      "outputs": [
        {
          "output_type": "stream",
          "name": "stdout",
          "text": [
            "Mounted at /content/gdrive\n"
          ]
        }
      ]
    },
    {
      "cell_type": "code",
      "source": [
        "from google.colab import files\n",
        "uploaded = files.upload()"
      ],
      "metadata": {
        "colab": {
          "base_uri": "https://localhost:8080/",
          "height": 73
        },
        "id": "CTjAz-YAKibo",
        "outputId": "3e820607-0c41-407a-d5be-f5d2be7142db"
      },
      "execution_count": 3,
      "outputs": [
        {
          "output_type": "display_data",
          "data": {
            "text/plain": [
              "<IPython.core.display.HTML object>"
            ],
            "text/html": [
              "\n",
              "     <input type=\"file\" id=\"files-f8529ed5-44c9-4c1e-ae52-3d7adcf54e8f\" name=\"files[]\" multiple disabled\n",
              "        style=\"border:none\" />\n",
              "     <output id=\"result-f8529ed5-44c9-4c1e-ae52-3d7adcf54e8f\">\n",
              "      Upload widget is only available when the cell has been executed in the\n",
              "      current browser session. Please rerun this cell to enable.\n",
              "      </output>\n",
              "      <script>// Copyright 2017 Google LLC\n",
              "//\n",
              "// Licensed under the Apache License, Version 2.0 (the \"License\");\n",
              "// you may not use this file except in compliance with the License.\n",
              "// You may obtain a copy of the License at\n",
              "//\n",
              "//      http://www.apache.org/licenses/LICENSE-2.0\n",
              "//\n",
              "// Unless required by applicable law or agreed to in writing, software\n",
              "// distributed under the License is distributed on an \"AS IS\" BASIS,\n",
              "// WITHOUT WARRANTIES OR CONDITIONS OF ANY KIND, either express or implied.\n",
              "// See the License for the specific language governing permissions and\n",
              "// limitations under the License.\n",
              "\n",
              "/**\n",
              " * @fileoverview Helpers for google.colab Python module.\n",
              " */\n",
              "(function(scope) {\n",
              "function span(text, styleAttributes = {}) {\n",
              "  const element = document.createElement('span');\n",
              "  element.textContent = text;\n",
              "  for (const key of Object.keys(styleAttributes)) {\n",
              "    element.style[key] = styleAttributes[key];\n",
              "  }\n",
              "  return element;\n",
              "}\n",
              "\n",
              "// Max number of bytes which will be uploaded at a time.\n",
              "const MAX_PAYLOAD_SIZE = 100 * 1024;\n",
              "\n",
              "function _uploadFiles(inputId, outputId) {\n",
              "  const steps = uploadFilesStep(inputId, outputId);\n",
              "  const outputElement = document.getElementById(outputId);\n",
              "  // Cache steps on the outputElement to make it available for the next call\n",
              "  // to uploadFilesContinue from Python.\n",
              "  outputElement.steps = steps;\n",
              "\n",
              "  return _uploadFilesContinue(outputId);\n",
              "}\n",
              "\n",
              "// This is roughly an async generator (not supported in the browser yet),\n",
              "// where there are multiple asynchronous steps and the Python side is going\n",
              "// to poll for completion of each step.\n",
              "// This uses a Promise to block the python side on completion of each step,\n",
              "// then passes the result of the previous step as the input to the next step.\n",
              "function _uploadFilesContinue(outputId) {\n",
              "  const outputElement = document.getElementById(outputId);\n",
              "  const steps = outputElement.steps;\n",
              "\n",
              "  const next = steps.next(outputElement.lastPromiseValue);\n",
              "  return Promise.resolve(next.value.promise).then((value) => {\n",
              "    // Cache the last promise value to make it available to the next\n",
              "    // step of the generator.\n",
              "    outputElement.lastPromiseValue = value;\n",
              "    return next.value.response;\n",
              "  });\n",
              "}\n",
              "\n",
              "/**\n",
              " * Generator function which is called between each async step of the upload\n",
              " * process.\n",
              " * @param {string} inputId Element ID of the input file picker element.\n",
              " * @param {string} outputId Element ID of the output display.\n",
              " * @return {!Iterable<!Object>} Iterable of next steps.\n",
              " */\n",
              "function* uploadFilesStep(inputId, outputId) {\n",
              "  const inputElement = document.getElementById(inputId);\n",
              "  inputElement.disabled = false;\n",
              "\n",
              "  const outputElement = document.getElementById(outputId);\n",
              "  outputElement.innerHTML = '';\n",
              "\n",
              "  const pickedPromise = new Promise((resolve) => {\n",
              "    inputElement.addEventListener('change', (e) => {\n",
              "      resolve(e.target.files);\n",
              "    });\n",
              "  });\n",
              "\n",
              "  const cancel = document.createElement('button');\n",
              "  inputElement.parentElement.appendChild(cancel);\n",
              "  cancel.textContent = 'Cancel upload';\n",
              "  const cancelPromise = new Promise((resolve) => {\n",
              "    cancel.onclick = () => {\n",
              "      resolve(null);\n",
              "    };\n",
              "  });\n",
              "\n",
              "  // Wait for the user to pick the files.\n",
              "  const files = yield {\n",
              "    promise: Promise.race([pickedPromise, cancelPromise]),\n",
              "    response: {\n",
              "      action: 'starting',\n",
              "    }\n",
              "  };\n",
              "\n",
              "  cancel.remove();\n",
              "\n",
              "  // Disable the input element since further picks are not allowed.\n",
              "  inputElement.disabled = true;\n",
              "\n",
              "  if (!files) {\n",
              "    return {\n",
              "      response: {\n",
              "        action: 'complete',\n",
              "      }\n",
              "    };\n",
              "  }\n",
              "\n",
              "  for (const file of files) {\n",
              "    const li = document.createElement('li');\n",
              "    li.append(span(file.name, {fontWeight: 'bold'}));\n",
              "    li.append(span(\n",
              "        `(${file.type || 'n/a'}) - ${file.size} bytes, ` +\n",
              "        `last modified: ${\n",
              "            file.lastModifiedDate ? file.lastModifiedDate.toLocaleDateString() :\n",
              "                                    'n/a'} - `));\n",
              "    const percent = span('0% done');\n",
              "    li.appendChild(percent);\n",
              "\n",
              "    outputElement.appendChild(li);\n",
              "\n",
              "    const fileDataPromise = new Promise((resolve) => {\n",
              "      const reader = new FileReader();\n",
              "      reader.onload = (e) => {\n",
              "        resolve(e.target.result);\n",
              "      };\n",
              "      reader.readAsArrayBuffer(file);\n",
              "    });\n",
              "    // Wait for the data to be ready.\n",
              "    let fileData = yield {\n",
              "      promise: fileDataPromise,\n",
              "      response: {\n",
              "        action: 'continue',\n",
              "      }\n",
              "    };\n",
              "\n",
              "    // Use a chunked sending to avoid message size limits. See b/62115660.\n",
              "    let position = 0;\n",
              "    do {\n",
              "      const length = Math.min(fileData.byteLength - position, MAX_PAYLOAD_SIZE);\n",
              "      const chunk = new Uint8Array(fileData, position, length);\n",
              "      position += length;\n",
              "\n",
              "      const base64 = btoa(String.fromCharCode.apply(null, chunk));\n",
              "      yield {\n",
              "        response: {\n",
              "          action: 'append',\n",
              "          file: file.name,\n",
              "          data: base64,\n",
              "        },\n",
              "      };\n",
              "\n",
              "      let percentDone = fileData.byteLength === 0 ?\n",
              "          100 :\n",
              "          Math.round((position / fileData.byteLength) * 100);\n",
              "      percent.textContent = `${percentDone}% done`;\n",
              "\n",
              "    } while (position < fileData.byteLength);\n",
              "  }\n",
              "\n",
              "  // All done.\n",
              "  yield {\n",
              "    response: {\n",
              "      action: 'complete',\n",
              "    }\n",
              "  };\n",
              "}\n",
              "\n",
              "scope.google = scope.google || {};\n",
              "scope.google.colab = scope.google.colab || {};\n",
              "scope.google.colab._files = {\n",
              "  _uploadFiles,\n",
              "  _uploadFilesContinue,\n",
              "};\n",
              "})(self);\n",
              "</script> "
            ]
          },
          "metadata": {}
        },
        {
          "output_type": "stream",
          "name": "stdout",
          "text": [
            "Saving gBR_sFM_c01_d04_mBR3_ch04.p to gBR_sFM_c01_d04_mBR3_ch04.p\n"
          ]
        }
      ]
    },
    {
      "cell_type": "code",
      "source": [
        "# Open the pickle file in binary read mode\n",
        "with open('/content/gBR_sFM_c01_d04_mBR3_ch04.p', 'rb') as file:\n",
        "    # Load the contents of the file\n",
        "    data = pickle.load(file)\n",
        "\n",
        "# Now you can use the 'data' variable\n",
        "print(data)"
      ],
      "metadata": {
        "colab": {
          "base_uri": "https://localhost:8080/"
        },
        "id": "GJhydawfKipV",
        "outputId": "f87413df-9286-488f-e295-376c3ffc76d7"
      },
      "execution_count": 4,
      "outputs": [
        {
          "output_type": "stream",
          "name": "stdout",
          "text": [
            "{'bone_vectors': array([[-0.22098406,  0.4485154 ,  0.3731835 , ...,  0.49884802,\n",
            "         0.01606774,  0.49974176],\n",
            "       [-0.2227173 ,  0.44765723,  0.3728047 , ...,  0.497993  ,\n",
            "         0.01648623,  0.49972814],\n",
            "       [-0.2716056 ,  0.41979805,  0.31863856, ...,  0.49300647,\n",
            "         0.00905285,  0.49991804],\n",
            "       ...,\n",
            "       [-0.09464655, -0.4909603 , -0.01523619, ...,  0.4428401 ,\n",
            "         0.29833308, -0.4012448 ],\n",
            "       [-0.09656103, -0.49058738, -0.0148069 , ...,  0.4428565 ,\n",
            "         0.30885425, -0.39320356],\n",
            "       [-0.09524848, -0.4908439 , -0.0147612 , ...,  0.4428701 ,\n",
            "         0.31336743, -0.38961628]], dtype=float32), 'keypoints': array([[ 0.48376003,  0.43008092, -0.2131675 , ...,  0.790187  ,\n",
            "         0.06459393,  0.9669076 ],\n",
            "       [ 0.48375636,  0.42997152, -0.21299468, ...,  0.79160655,\n",
            "         0.06460377,  0.9673822 ],\n",
            "       [ 0.48340797,  0.43144178, -0.22610661, ...,  0.791478  ,\n",
            "         0.08008426,  0.9669033 ],\n",
            "       ...,\n",
            "       [ 0.55910534,  0.59513026, -0.03559213, ...,  0.80694795,\n",
            "        -0.04327298,  0.98890734],\n",
            "       [ 0.55920017,  0.59512943, -0.03486083, ...,  0.8069456 ,\n",
            "        -0.04292793,  0.9890027 ],\n",
            "       [ 0.55926937,  0.5951558 , -0.03497342, ...,  0.8069437 ,\n",
            "        -0.04066251,  0.9890649 ]], dtype=float32), 'mel_spectrogram': array([[ 0.12951934,  0.15538728,  0.14498538, ..., -0.23908171,\n",
            "        -0.2575767 , -0.23726168],\n",
            "       [ 0.270198  ,  0.30857575,  0.2566644 , ..., -0.17449379,\n",
            "        -0.20521751, -0.18294668],\n",
            "       [ 0.3108778 ,  0.33859843,  0.3209077 , ..., -0.15983152,\n",
            "        -0.21729141, -0.15378246],\n",
            "       ...,\n",
            "       [-0.5       , -0.5       , -0.5       , ..., -0.5       ,\n",
            "        -0.5       , -0.5       ],\n",
            "       [-0.5       , -0.5       , -0.5       , ..., -0.5       ,\n",
            "        -0.5       , -0.5       ],\n",
            "       [-0.5       , -0.5       , -0.5       , ..., -0.5       ,\n",
            "        -0.5       , -0.5       ]], dtype=float32), 'labels': array([1.7389122e-22, 4.6564796e-22, 1.2345106e-21, ..., 6.3129198e-36,\n",
            "       1.7640252e-36, 4.8801858e-37], dtype=float32)}\n"
          ]
        }
      ]
    },
    {
      "cell_type": "code",
      "source": [
        "# Get the type of the object\n",
        "print(f\"Type of loaded object: {type(data)}\")\n",
        "\n",
        "# If it's a list or tuple, get its length\n",
        "if isinstance(data, (list, tuple)):\n",
        "    print(f\"Number of items: {len(data)}\")\n",
        "\n",
        "# If it's a numpy array, get its shape and dtype\n",
        "if hasattr(data, 'shape'):\n",
        "    print(f\"Shape: {data.shape}\")\n",
        "    print(f\"Data type: {data.dtype}\")\n",
        "\n",
        "# If it's a dictionary, get the number of keys\n",
        "if isinstance(data, dict):\n",
        "    print(f\"Number of keys: {len(data)}\")\n",
        "    print(f\"Keys: {list(data.keys())}\")\n",
        "\n",
        "# Get the total size in memory\n",
        "import sys\n",
        "print(f\"Size in memory: {sys.getsizeof(data)} bytes\")"
      ],
      "metadata": {
        "colab": {
          "base_uri": "https://localhost:8080/"
        },
        "id": "SvzIpZQpMou4",
        "outputId": "e7305a2b-118f-464a-e669-e00891955839"
      },
      "execution_count": 5,
      "outputs": [
        {
          "output_type": "stream",
          "name": "stdout",
          "text": [
            "Type of loaded object: <class 'dict'>\n",
            "Number of keys: 4\n",
            "Keys: ['bone_vectors', 'keypoints', 'mel_spectrogram', 'labels']\n",
            "Size in memory: 232 bytes\n"
          ]
        }
      ]
    },
    {
      "cell_type": "code",
      "source": [
        "data['keypoints']"
      ],
      "metadata": {
        "colab": {
          "base_uri": "https://localhost:8080/"
        },
        "id": "Q-d2rhz4MvYA",
        "outputId": "d7553fdd-e7a7-40ad-d198-d45da65af43f"
      },
      "execution_count": 6,
      "outputs": [
        {
          "output_type": "execute_result",
          "data": {
            "text/plain": [
              "array([[ 0.48376003,  0.43008092, -0.2131675 , ...,  0.790187  ,\n",
              "         0.06459393,  0.9669076 ],\n",
              "       [ 0.48375636,  0.42997152, -0.21299468, ...,  0.79160655,\n",
              "         0.06460377,  0.9673822 ],\n",
              "       [ 0.48340797,  0.43144178, -0.22610661, ...,  0.791478  ,\n",
              "         0.08008426,  0.9669033 ],\n",
              "       ...,\n",
              "       [ 0.55910534,  0.59513026, -0.03559213, ...,  0.80694795,\n",
              "        -0.04327298,  0.98890734],\n",
              "       [ 0.55920017,  0.59512943, -0.03486083, ...,  0.8069456 ,\n",
              "        -0.04292793,  0.9890027 ],\n",
              "       [ 0.55926937,  0.5951558 , -0.03497342, ...,  0.8069437 ,\n",
              "        -0.04066251,  0.9890649 ]], dtype=float32)"
            ]
          },
          "metadata": {},
          "execution_count": 6
        }
      ]
    },
    {
      "cell_type": "code",
      "source": [
        "data['keypoints'].shape"
      ],
      "metadata": {
        "colab": {
          "base_uri": "https://localhost:8080/"
        },
        "id": "686IfrFyPOYL",
        "outputId": "ed2351a1-3ebf-4945-fe10-e29407b5801e"
      },
      "execution_count": 7,
      "outputs": [
        {
          "output_type": "execute_result",
          "data": {
            "text/plain": [
              "(2093, 132)"
            ]
          },
          "metadata": {},
          "execution_count": 7
        }
      ]
    },
    {
      "cell_type": "code",
      "source": [
        "data['keypoints'][0]"
      ],
      "metadata": {
        "colab": {
          "base_uri": "https://localhost:8080/"
        },
        "id": "Ty6UPZjnRYRJ",
        "outputId": "abdb85d6-a508-451d-8c4f-0fa1fb17b09f"
      },
      "execution_count": 22,
      "outputs": [
        {
          "output_type": "execute_result",
          "data": {
            "text/plain": [
              "array([ 0.48376003,  0.43008092, -0.2131675 ,  0.9999765 ,  0.486718  ,\n",
              "        0.42045632, -0.2041832 ,  0.9999275 ,  0.48838928,  0.42031252,\n",
              "       -0.20418663,  0.9999163 ,  0.49012962,  0.42017454, -0.20420077,\n",
              "        0.99990153,  0.4802278 ,  0.42089948, -0.20467919,  0.9999331 ,\n",
              "        0.47820938,  0.4210852 , -0.20471796,  0.99993384,  0.47621572,\n",
              "        0.42135942, -0.20474757,  0.9999399 ,  0.49267128,  0.4224859 ,\n",
              "       -0.13683155,  0.999879  ,  0.47414997,  0.42444193, -0.13917294,\n",
              "        0.99992716,  0.48733208,  0.43837896, -0.18639821,  0.9999783 ,\n",
              "        0.48006248,  0.43940634, -0.18723902,  0.99998474,  0.50866354,\n",
              "        0.46942478, -0.07945897,  0.99997294,  0.45843   ,  0.46794027,\n",
              "       -0.08672278,  0.9998696 ,  0.52181065,  0.5247851 , -0.05018394,\n",
              "        0.9942676 ,  0.4413354 ,  0.52694553, -0.10012879,  0.9920277 ,\n",
              "        0.523564  ,  0.5793175 , -0.10785865,  0.98356426,  0.4641665 ,\n",
              "        0.55588645, -0.18789595,  0.9814074 ,  0.5223155 ,  0.59841037,\n",
              "       -0.12601246,  0.9633757 ,  0.4704979 ,  0.5716143 , -0.21101782,\n",
              "        0.9578943 ,  0.5192084 ,  0.59522724, -0.14227135,  0.9653729 ,\n",
              "        0.47500557,  0.56555164, -0.21945997,  0.95819813,  0.5188182 ,\n",
              "        0.5889497 , -0.11491566,  0.9559575 ,  0.47335836,  0.5595261 ,\n",
              "       -0.19214346,  0.9398733 ,  0.49440315,  0.5947686 , -0.00408174,\n",
              "        0.99951136,  0.4665319 ,  0.5933388 ,  0.00406841,  0.99899167,\n",
              "        0.49095795,  0.6763043 , -0.02496309,  0.9926641 ,  0.4663806 ,\n",
              "        0.68612635,  0.00997527,  0.9814705 ,  0.48638707,  0.7550131 ,\n",
              "        0.09582792,  0.98514533,  0.4750709 ,  0.75754833,  0.12578872,\n",
              "        0.97381175,  0.4860441 ,  0.7600568 ,  0.10381879,  0.81067014,\n",
              "        0.47704098,  0.76324487,  0.13405189,  0.8458162 ,  0.48168108,\n",
              "        0.7889647 ,  0.03027541,  0.97747725,  0.47197118,  0.790187  ,\n",
              "        0.06459393,  0.9669076 ], dtype=float32)"
            ]
          },
          "metadata": {},
          "execution_count": 22
        }
      ]
    },
    {
      "cell_type": "code",
      "source": [
        "data['keypoints'][0].shape"
      ],
      "metadata": {
        "colab": {
          "base_uri": "https://localhost:8080/"
        },
        "id": "bJIgfQBjRbf0",
        "outputId": "67b1e37d-ecc2-4998-f3bc-75090a21b443"
      },
      "execution_count": 23,
      "outputs": [
        {
          "output_type": "execute_result",
          "data": {
            "text/plain": [
              "(132,)"
            ]
          },
          "metadata": {},
          "execution_count": 23
        }
      ]
    },
    {
      "cell_type": "code",
      "source": [
        "data['bone_vectors']"
      ],
      "metadata": {
        "colab": {
          "base_uri": "https://localhost:8080/"
        },
        "id": "4zTieoT9Ne6t",
        "outputId": "ddc606a3-f934-4043-fa2f-87d615a6deb4"
      },
      "execution_count": 9,
      "outputs": [
        {
          "output_type": "execute_result",
          "data": {
            "text/plain": [
              "array([[-0.22098406,  0.4485154 ,  0.3731835 , ...,  0.49884802,\n",
              "         0.01606774,  0.49974176],\n",
              "       [-0.2227173 ,  0.44765723,  0.3728047 , ...,  0.497993  ,\n",
              "         0.01648623,  0.49972814],\n",
              "       [-0.2716056 ,  0.41979805,  0.31863856, ...,  0.49300647,\n",
              "         0.00905285,  0.49991804],\n",
              "       ...,\n",
              "       [-0.09464655, -0.4909603 , -0.01523619, ...,  0.4428401 ,\n",
              "         0.29833308, -0.4012448 ],\n",
              "       [-0.09656103, -0.49058738, -0.0148069 , ...,  0.4428565 ,\n",
              "         0.30885425, -0.39320356],\n",
              "       [-0.09524848, -0.4908439 , -0.0147612 , ...,  0.4428701 ,\n",
              "         0.31336743, -0.38961628]], dtype=float32)"
            ]
          },
          "metadata": {},
          "execution_count": 9
        }
      ]
    },
    {
      "cell_type": "code",
      "source": [
        "data['bone_vectors'].shape"
      ],
      "metadata": {
        "colab": {
          "base_uri": "https://localhost:8080/"
        },
        "id": "Og9R3t12NpNp",
        "outputId": "c642a00a-f65c-4e25-fa97-206bd0e97709"
      },
      "execution_count": 10,
      "outputs": [
        {
          "output_type": "execute_result",
          "data": {
            "text/plain": [
              "(2093, 70)"
            ]
          },
          "metadata": {},
          "execution_count": 10
        }
      ]
    },
    {
      "cell_type": "code",
      "source": [
        "type(data['bone_vectors'])"
      ],
      "metadata": {
        "colab": {
          "base_uri": "https://localhost:8080/"
        },
        "id": "0petaB_tNxj2",
        "outputId": "2f45f80f-49cb-4eb3-97da-3b87aedcb774"
      },
      "execution_count": 12,
      "outputs": [
        {
          "output_type": "execute_result",
          "data": {
            "text/plain": [
              "numpy.ndarray"
            ]
          },
          "metadata": {},
          "execution_count": 12
        }
      ]
    },
    {
      "cell_type": "code",
      "source": [
        "data['bone_vectors'][0].shape"
      ],
      "metadata": {
        "colab": {
          "base_uri": "https://localhost:8080/"
        },
        "id": "-4UOycKEOQdy",
        "outputId": "6ec5ed7a-4c05-4ae2-fc85-c42ff75abaa7"
      },
      "execution_count": 18,
      "outputs": [
        {
          "output_type": "execute_result",
          "data": {
            "text/plain": [
              "(70,)"
            ]
          },
          "metadata": {},
          "execution_count": 18
        }
      ]
    },
    {
      "cell_type": "code",
      "source": [
        "data['bone_vectors'][0][]"
      ],
      "metadata": {
        "colab": {
          "base_uri": "https://localhost:8080/"
        },
        "id": "clgyDYO2O8n-",
        "outputId": "5509d737-6df2-4185-af0e-cc09e724ef18"
      },
      "execution_count": 21,
      "outputs": [
        {
          "output_type": "execute_result",
          "data": {
            "text/plain": [
              "0.3731835"
            ]
          },
          "metadata": {},
          "execution_count": 21
        }
      ]
    },
    {
      "cell_type": "code",
      "source": [
        "#pelda az elso frame ossze vektorara"
      ],
      "metadata": {
        "id": "-1GLLCjGQIYf"
      },
      "execution_count": null,
      "outputs": []
    },
    {
      "cell_type": "code",
      "source": [
        "data['bone_vectors'].shape"
      ],
      "metadata": {
        "colab": {
          "base_uri": "https://localhost:8080/"
        },
        "id": "ezs1S2DsWlCG",
        "outputId": "32e4be5c-2ae0-46c0-fa8a-6f3016bc53e1"
      },
      "execution_count": 8,
      "outputs": [
        {
          "output_type": "execute_result",
          "data": {
            "text/plain": [
              "(2093, 70)"
            ]
          },
          "metadata": {},
          "execution_count": 8
        }
      ]
    },
    {
      "cell_type": "code",
      "source": [
        "vector_pairs_1 = (data['bone_vectors'][0]).copy()\n",
        "vector_pairs_2 = (data['bone_vectors'][0]).copy()"
      ],
      "metadata": {
        "id": "sO7s8eM_pmj9"
      },
      "execution_count": 19,
      "outputs": []
    },
    {
      "cell_type": "code",
      "source": [
        "vectors_1 = vector_pairs_2.reshape(35, 2)\n",
        "vectors_2 = vector_pairs_2.reshape(35, 2)"
      ],
      "metadata": {
        "id": "IGq8yLyErJ7m"
      },
      "execution_count": 20,
      "outputs": []
    },
    {
      "cell_type": "code",
      "source": [
        "def cosine_similarity(vec1, vec2):\n",
        "    # Ensure the vectors are numpy arrays\n",
        "    vec1 = np.array(vec1)\n",
        "    vec2 = np.array(vec2)\n",
        "\n",
        "    # Compute the dot product\n",
        "    dot_product = np.dot(vec1, vec2)\n",
        "\n",
        "    # Compute the magnitudes (norms) of the vectors\n",
        "    norm_vec1 = np.linalg.norm(vec1)\n",
        "    norm_vec2 = np.linalg.norm(vec2)\n",
        "\n",
        "    # Compute the cosine similarity\n",
        "    similarity = dot_product / (norm_vec1 * norm_vec2)\n",
        "\n",
        "    return similarity"
      ],
      "metadata": {
        "id": "FQ2JESI_r5YS"
      },
      "execution_count": 17,
      "outputs": []
    },
    {
      "cell_type": "code",
      "source": [
        "# Loop over the pairs of vectors from vectors1 and vectors2\n",
        "for i in range(len(vectors_1)):\n",
        "    sim = cosine_similarity(vectors_1[i], vectors_2[i])\n",
        "    print(f\"Cosine similarity between vector {i+1} of array 1 and vector {i+1} of array 2: {sim:.4f}\")"
      ],
      "metadata": {
        "colab": {
          "base_uri": "https://localhost:8080/"
        },
        "id": "iQ2AYyhtvFcT",
        "outputId": "486c766a-1fa0-42d5-b6d1-978bc2628282"
      },
      "execution_count": 21,
      "outputs": [
        {
          "output_type": "stream",
          "name": "stdout",
          "text": [
            "Cosine similarity between vector 1 of array 1 and vector 1 of array 2: 1.0000\n",
            "Cosine similarity between vector 2 of array 1 and vector 2 of array 2: 1.0000\n",
            "Cosine similarity between vector 3 of array 1 and vector 3 of array 2: 1.0000\n",
            "Cosine similarity between vector 4 of array 1 and vector 4 of array 2: 1.0000\n",
            "Cosine similarity between vector 5 of array 1 and vector 5 of array 2: 1.0000\n",
            "Cosine similarity between vector 6 of array 1 and vector 6 of array 2: 1.0000\n",
            "Cosine similarity between vector 7 of array 1 and vector 7 of array 2: 1.0000\n",
            "Cosine similarity between vector 8 of array 1 and vector 8 of array 2: 1.0000\n",
            "Cosine similarity between vector 9 of array 1 and vector 9 of array 2: 1.0000\n",
            "Cosine similarity between vector 10 of array 1 and vector 10 of array 2: 1.0000\n",
            "Cosine similarity between vector 11 of array 1 and vector 11 of array 2: 1.0000\n",
            "Cosine similarity between vector 12 of array 1 and vector 12 of array 2: 1.0000\n",
            "Cosine similarity between vector 13 of array 1 and vector 13 of array 2: 1.0000\n",
            "Cosine similarity between vector 14 of array 1 and vector 14 of array 2: 1.0000\n",
            "Cosine similarity between vector 15 of array 1 and vector 15 of array 2: 1.0000\n",
            "Cosine similarity between vector 16 of array 1 and vector 16 of array 2: 1.0000\n",
            "Cosine similarity between vector 17 of array 1 and vector 17 of array 2: 1.0000\n",
            "Cosine similarity between vector 18 of array 1 and vector 18 of array 2: 1.0000\n",
            "Cosine similarity between vector 19 of array 1 and vector 19 of array 2: 1.0000\n",
            "Cosine similarity between vector 20 of array 1 and vector 20 of array 2: 1.0000\n",
            "Cosine similarity between vector 21 of array 1 and vector 21 of array 2: 1.0000\n",
            "Cosine similarity between vector 22 of array 1 and vector 22 of array 2: 1.0000\n",
            "Cosine similarity between vector 23 of array 1 and vector 23 of array 2: 1.0000\n",
            "Cosine similarity between vector 24 of array 1 and vector 24 of array 2: 1.0000\n",
            "Cosine similarity between vector 25 of array 1 and vector 25 of array 2: 1.0000\n",
            "Cosine similarity between vector 26 of array 1 and vector 26 of array 2: 1.0000\n",
            "Cosine similarity between vector 27 of array 1 and vector 27 of array 2: 1.0000\n",
            "Cosine similarity between vector 28 of array 1 and vector 28 of array 2: 1.0000\n",
            "Cosine similarity between vector 29 of array 1 and vector 29 of array 2: 1.0000\n",
            "Cosine similarity between vector 30 of array 1 and vector 30 of array 2: 1.0000\n",
            "Cosine similarity between vector 31 of array 1 and vector 31 of array 2: 1.0000\n",
            "Cosine similarity between vector 32 of array 1 and vector 32 of array 2: 1.0000\n",
            "Cosine similarity between vector 33 of array 1 and vector 33 of array 2: 1.0000\n",
            "Cosine similarity between vector 34 of array 1 and vector 34 of array 2: 1.0000\n",
            "Cosine similarity between vector 35 of array 1 and vector 35 of array 2: 1.0000\n"
          ]
        }
      ]
    },
    {
      "cell_type": "code",
      "source": [],
      "metadata": {
        "id": "LrU5aX7Twhnm"
      },
      "execution_count": null,
      "outputs": []
    }
  ]
}