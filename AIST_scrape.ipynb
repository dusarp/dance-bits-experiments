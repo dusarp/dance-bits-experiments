{
  "nbformat": 4,
  "nbformat_minor": 0,
  "metadata": {
    "colab": {
      "provenance": [],
      "authorship_tag": "ABX9TyOT5L+3ZMnOti7xZakrLFGL",
      "include_colab_link": true
    },
    "kernelspec": {
      "name": "python3",
      "display_name": "Python 3"
    },
    "language_info": {
      "name": "python"
    }
  },
  "cells": [
    {
      "cell_type": "markdown",
      "metadata": {
        "id": "view-in-github",
        "colab_type": "text"
      },
      "source": [
        "<a href=\"https://colab.research.google.com/github/dusarp/dance-bits-experiments/blob/main/AIST_scrape.ipynb\" target=\"_parent\"><img src=\"https://colab.research.google.com/assets/colab-badge.svg\" alt=\"Open In Colab\"/></a>"
      ]
    },
    {
      "cell_type": "code",
      "execution_count": null,
      "metadata": {
        "id": "yrwPDQG2eKFE"
      },
      "outputs": [],
      "source": [
        "import os\n",
        "import requests\n",
        "from bs4 import BeautifulSoup\n",
        "from urllib.parse import urljoin\n",
        "\n",
        "# URL of the page with all file links\n",
        "url = 'https://aistdancedb.ongaaccel.jp/all_links/'\n",
        "\n",
        "# Directory where files will be saved\n",
        "download_dir = 'downloads'\n",
        "if not os.path.exists(download_dir):\n",
        "    os.makedirs(download_dir)\n",
        "\n",
        "# Function to download a file\n",
        "def download_file(file_url, dest_folder):\n",
        "    local_filename = os.path.join(dest_folder, file_url.split('/')[-1])\n",
        "    with requests.get(file_url, stream=True) as r:\n",
        "        r.raise_for_status()\n",
        "        with open(local_filename, 'wb') as f:\n",
        "            for chunk in r.iter_content(chunk_size=8192):\n",
        "                f.write(chunk)\n",
        "    print(f\"Downloaded: {local_filename}\")\n",
        "\n",
        "# Fetch the content of the page\n",
        "response = requests.get(url)\n",
        "response.raise_for_status()\n",
        "\n",
        "# Parse the page content\n",
        "soup = BeautifulSoup(response.content, 'html.parser')\n",
        "\n",
        "# Find all anchor tags with href attributes\n",
        "links = soup.find_all('a', href=True)\n",
        "\n",
        "# Download all linked files\n",
        "for link in links:\n",
        "    file_url = urljoin(url, link['href'])\n",
        "    if file_url.endswith(('pdf', 'zip', 'txt', 'csv', 'mp4', 'avi')):  # Add more extensions if needed\n",
        "        try:\n",
        "            download_file(file_url, download_dir)\n",
        "        except Exception as e:\n",
        "            print(f\"Failed to download {file_url}: {e}\")\n"
      ]
    }
  ]
}