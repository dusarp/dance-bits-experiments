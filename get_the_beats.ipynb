{
  "nbformat": 4,
  "nbformat_minor": 0,
  "metadata": {
    "colab": {
      "provenance": [],
      "authorship_tag": "ABX9TyNYsSfDQ1YIwMEDj9NK3osd",
      "include_colab_link": true
    },
    "kernelspec": {
      "name": "python3",
      "display_name": "Python 3"
    },
    "language_info": {
      "name": "python"
    }
  },
  "cells": [
    {
      "cell_type": "markdown",
      "metadata": {
        "id": "view-in-github",
        "colab_type": "text"
      },
      "source": [
        "<a href=\"https://colab.research.google.com/github/dusarp/dance-bits-experiments/blob/main/get_the_beats.ipynb\" target=\"_parent\"><img src=\"https://colab.research.google.com/assets/colab-badge.svg\" alt=\"Open In Colab\"/></a>"
      ]
    },
    {
      "cell_type": "code",
      "source": [
        "import librosa\n",
        "import numpy as np"
      ],
      "metadata": {
        "id": "b0vUui7A8VRA"
      },
      "execution_count": null,
      "outputs": []
    },
    {
      "cell_type": "code",
      "execution_count": null,
      "metadata": {
        "id": "Uo4IIZuc8OIC"
      },
      "outputs": [],
      "source": [
        "# this code gets the tempo and the beats, one by one\n",
        "def extract_beats(audio_file):\n",
        "    # Load the audio file\n",
        "    y, sr = librosa.load(audio_file)\n",
        "\n",
        "    # Use librosa's beat tracking function\n",
        "    tempo, beat_frames = librosa.beat.beat_track(y=y, sr=sr)\n",
        "\n",
        "    # Convert beat frames to time (seconds)\n",
        "    beat_times = librosa.frames_to_time(beat_frames, sr=sr)\n",
        "\n",
        "    for beat_time in beat_times:\n",
        "      yield beat_time"
      ]
    },
    {
      "cell_type": "code",
      "source": [
        "beat_times_uploaded = extract_beats(\"/content/extracted_audio.wav\")"
      ],
      "metadata": {
        "id": "Wcnjmt_g8v6w"
      },
      "execution_count": null,
      "outputs": []
    },
    {
      "cell_type": "code",
      "source": [
        "# Get beats one at a time\n",
        "first_beat = next(beat_times_uploaded)\n",
        "print(f\"First beat: {first_beat:.2f} seconds\")"
      ],
      "metadata": {
        "id": "gN9PJk-V8wdn"
      },
      "execution_count": null,
      "outputs": []
    }
  ]
}