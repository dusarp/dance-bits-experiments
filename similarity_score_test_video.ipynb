{
  "nbformat": 4,
  "nbformat_minor": 0,
  "metadata": {
    "colab": {
      "provenance": [],
      "authorship_tag": "ABX9TyPuLdeO+4QFHp3Hv8EC/6/u",
      "include_colab_link": true
    },
    "kernelspec": {
      "name": "python3",
      "display_name": "Python 3"
    },
    "language_info": {
      "name": "python"
    }
  },
  "cells": [
    {
      "cell_type": "markdown",
      "metadata": {
        "id": "view-in-github",
        "colab_type": "text"
      },
      "source": [
        "<a href=\"https://colab.research.google.com/github/dusarp/dance-bits-experiments/blob/main/similarity_score_test_video.ipynb\" target=\"_parent\"><img src=\"https://colab.research.google.com/assets/colab-badge.svg\" alt=\"Open In Colab\"/></a>"
      ]
    },
    {
      "cell_type": "code",
      "execution_count": 1,
      "metadata": {
        "id": "ZIqF-2gmnqhK"
      },
      "outputs": [],
      "source": [
        "#imports\n",
        "from moviepy.editor import VideoFileClip\n",
        "import librosa\n",
        "import librosa.display\n",
        "import matplotlib.pyplot as plt\n",
        "import numpy as np"
      ]
    },
    {
      "cell_type": "code",
      "source": [
        "#mount Google Drive\n",
        "from google.colab import drive\n"
      ],
      "metadata": {
        "colab": {
          "base_uri": "https://localhost:8080/"
        },
        "id": "ij0RZj8GpxLx",
        "outputId": "93977875-fdb3-49c9-b2e9-f39f9b0dccce"
      },
      "execution_count": 2,
      "outputs": [
        {
          "output_type": "stream",
          "name": "stdout",
          "text": [
            "Mounted at /content/gdrive\n"
          ]
        }
      ]
    },
    {
      "cell_type": "code",
      "source": [
        "def extract_beats(audio_file):\n",
        "    # Load the audio file\n",
        "    y, sr = librosa.load(audio_file)\n",
        "\n",
        "    # Use librosa's beat tracking function\n",
        "    tempo, beat_frames = librosa.beat.beat_track(y=y, sr=sr)\n",
        "\n",
        "    # Convert beat frames to time (seconds)\n",
        "    beat_times = librosa.frames_to_time(beat_frames, sr=sr)\n",
        "\n",
        "    return beat_times"
      ],
      "metadata": {
        "id": "iEr6ijqaDoHB"
      },
      "execution_count": 19,
      "outputs": []
    },
    {
      "cell_type": "code",
      "source": [
        "drive.mount('/content/drive')"
      ],
      "metadata": {
        "colab": {
          "base_uri": "https://localhost:8080/"
        },
        "id": "4nP4vOVL-G96",
        "outputId": "f3a7eea7-f336-402a-8177-c17b87e428a4"
      },
      "execution_count": 8,
      "outputs": [
        {
          "output_type": "stream",
          "name": "stdout",
          "text": [
            "Mounted at /content/drive\n"
          ]
        }
      ]
    },
    {
      "cell_type": "code",
      "source": [
        "import os\n",
        "dancebits_folder = '/content/drive/My Drive/dancebits'"
      ],
      "metadata": {
        "id": "U45wbFao-Vs-"
      },
      "execution_count": 9,
      "outputs": []
    },
    {
      "cell_type": "code",
      "source": [
        "print(os.listdir(dancebits_folder))"
      ],
      "metadata": {
        "colab": {
          "base_uri": "https://localhost:8080/"
        },
        "id": "UkZI2ZuLBMvt",
        "outputId": "d3dd02e8-8a1d-4cc8-dcea-3e335a2e52f2"
      },
      "execution_count": 10,
      "outputs": [
        {
          "output_type": "stream",
          "name": "stdout",
          "text": [
            "['gMH_sFM_c01_d23_mMH3_ch11.mp4', 'PXL_20240924_061040585.TS.p', 'gMH_sFM_c01_d23_mMH3_ch11.p', 'PXL_20240924_061040585.TS.mp4']\n"
          ]
        }
      ]
    },
    {
      "cell_type": "code",
      "source": [
        "video_cristina = VideoFileClip(\"/content/drive/MyDrive/dancebits/PXL_20240924_061040585.TS.mp4\")"
      ],
      "metadata": {
        "id": "v0lFdHVsBP8W"
      },
      "execution_count": 11,
      "outputs": []
    },
    {
      "cell_type": "code",
      "source": [
        "video_teaching = VideoFileClip(\"/content/drive/MyDrive/dancebits/gMH_sFM_c01_d23_mMH3_ch11.mp4\")"
      ],
      "metadata": {
        "id": "ySQN-kJGCYfg"
      },
      "execution_count": 12,
      "outputs": []
    },
    {
      "cell_type": "markdown",
      "source": [
        "Cristina video:"
      ],
      "metadata": {
        "id": "1D1_y2LhDOuu"
      }
    },
    {
      "cell_type": "code",
      "source": [
        "#generate the wav from the video file\n",
        "audio_path = \"/content/drive/MyDrive/dancebits/PXL_20240924_061040585.TS.wav\"\n",
        "video_cristina.audio.write_audiofile(audio_path)"
      ],
      "metadata": {
        "colab": {
          "base_uri": "https://localhost:8080/"
        },
        "id": "OB1sskn6EAI3",
        "outputId": "c00481e9-26a7-4fb1-c36a-8ba9113c462d"
      },
      "execution_count": 16,
      "outputs": [
        {
          "output_type": "stream",
          "name": "stdout",
          "text": [
            "MoviePy - Writing audio in /content/drive/MyDrive/dancebits/PXL_20240924_061040585.TS.wav\n"
          ]
        },
        {
          "output_type": "stream",
          "name": "stderr",
          "text": [
            "                                                                    "
          ]
        },
        {
          "output_type": "stream",
          "name": "stdout",
          "text": [
            "MoviePy - Done.\n"
          ]
        },
        {
          "output_type": "stream",
          "name": "stderr",
          "text": [
            "\r"
          ]
        }
      ]
    },
    {
      "cell_type": "code",
      "source": [
        "#infos about the movie filem:\n",
        "# Duration in seconds\n",
        "video = video_cristina\n",
        "duration = video.duration\n",
        "print(f\"Duration: {duration} seconds\")\n",
        "\n",
        "# Frames per second\n",
        "fps = video.fps\n",
        "print(f\"FPS: {fps}\")\n",
        "\n",
        "# Resolution (width x height)\n",
        "resolution = video.size\n",
        "print(f\"Resolution: {resolution[0]}x{resolution[1]}\")\n",
        "\n",
        "# Audio (Check if audio is present)\n",
        "if video.audio:\n",
        "    audio_fps = video.audio.fps\n",
        "    audio_duration = video.audio.duration\n",
        "    print(f\"Audio FPS: {audio_fps}\")\n",
        "    print(f\"Audio Duration: {audio_duration} seconds\")\n",
        "else:\n",
        "    print(\"No audio track available\")"
      ],
      "metadata": {
        "colab": {
          "base_uri": "https://localhost:8080/"
        },
        "id": "GgmIziM-CgdN",
        "outputId": "a0ca9821-2455-4263-dad8-5cc1da0d9970"
      },
      "execution_count": 13,
      "outputs": [
        {
          "output_type": "stream",
          "name": "stdout",
          "text": [
            "Duration: 33.61 seconds\n",
            "FPS: 29.83\n",
            "Resolution: 1920x1080\n",
            "Audio FPS: 44100\n",
            "Audio Duration: 33.61 seconds\n"
          ]
        }
      ]
    },
    {
      "cell_type": "markdown",
      "source": [
        "Teaching video:"
      ],
      "metadata": {
        "id": "2vuoHINYDJdv"
      }
    },
    {
      "cell_type": "code",
      "source": [
        "#generate the wav from the video file\n",
        "audio_path = \"/content/drive/MyDrive/dancebits/gMH_sFM_c01_d23_mMH3_ch11.wav\"\n",
        "video_teaching.audio.write_audiofile(audio_path)"
      ],
      "metadata": {
        "colab": {
          "base_uri": "https://localhost:8080/"
        },
        "id": "kAOcsC21Eic2",
        "outputId": "983812c3-91a8-4eac-bbe3-45a1a9ec227c"
      },
      "execution_count": 17,
      "outputs": [
        {
          "output_type": "stream",
          "name": "stdout",
          "text": [
            "MoviePy - Writing audio in /content/drive/MyDrive/dancebits/gMH_sFM_c01_d23_mMH3_ch11.wav\n"
          ]
        },
        {
          "output_type": "stream",
          "name": "stderr",
          "text": [
            "                                                                    "
          ]
        },
        {
          "output_type": "stream",
          "name": "stdout",
          "text": [
            "MoviePy - Done.\n"
          ]
        },
        {
          "output_type": "stream",
          "name": "stderr",
          "text": [
            "\r"
          ]
        }
      ]
    },
    {
      "cell_type": "code",
      "source": [
        "#infos about the movie filem:\n",
        "# Duration in seconds\n",
        "video = video_teaching\n",
        "duration = video.duration\n",
        "print(f\"Duration: {duration} seconds\")\n",
        "\n",
        "# Frames per second\n",
        "fps = video.fps\n",
        "print(f\"FPS: {fps}\")\n",
        "\n",
        "# Resolution (width x height)\n",
        "resolution = video.size\n",
        "print(f\"Resolution: {resolution[0]}x{resolution[1]}\")\n",
        "\n",
        "# Audio (Check if audio is present)\n",
        "if video.audio:\n",
        "    audio_fps = video.audio.fps\n",
        "    audio_duration = video.audio.duration\n",
        "    print(f\"Audio FPS: {audio_fps}\")\n",
        "    print(f\"Audio Duration: {audio_duration} seconds\")\n",
        "else:\n",
        "    print(\"No audio track available\")"
      ],
      "metadata": {
        "colab": {
          "base_uri": "https://localhost:8080/"
        },
        "id": "xImJsRULC5T4",
        "outputId": "3bad59fd-61e7-456b-8f91-1df3a91fe6bc"
      },
      "execution_count": 14,
      "outputs": [
        {
          "output_type": "stream",
          "name": "stdout",
          "text": [
            "Duration: 32.05 seconds\n",
            "FPS: 59.94\n",
            "Resolution: 1920x1080\n",
            "Audio FPS: 44100\n",
            "Audio Duration: 32.05 seconds\n"
          ]
        }
      ]
    },
    {
      "cell_type": "code",
      "source": [
        "extract_beats(\"/content/drive/MyDrive/dancebits/PXL_20240924_061040585.TS.wav\")"
      ],
      "metadata": {
        "colab": {
          "base_uri": "https://localhost:8080/"
        },
        "id": "hC8Qx2fmC-Te",
        "outputId": "d37689b1-b717-40d2-e648-a2bc0cd059d1"
      },
      "execution_count": 21,
      "outputs": [
        {
          "output_type": "execute_result",
          "data": {
            "text/plain": [
              "array([ 0.06965986,  0.65015873,  1.16099773,  1.69505669,  2.27555556,\n",
              "        2.80961451,  3.34367347,  3.87773243,  4.41179138,  4.89941043,\n",
              "        5.41024943,  5.87464853,  6.33904762,  6.87310658,  7.38394558,\n",
              "        7.91800454,  8.45206349,  8.93968254,  9.45052154,  9.96136054,\n",
              "       10.47219955, 10.95981859, 11.51709751, 12.07437642, 12.60843537,\n",
              "       13.14249433, 13.67655329, 14.2338322 , 14.79111111, 15.32517007,\n",
              "       15.88244898, 16.41650794, 16.95056689, 17.48462585, 17.99546485,\n",
              "       18.52952381, 19.08680272, 19.64408163, 20.2245805 , 20.80507937,\n",
              "       21.33913832, 21.89641723, 22.43047619, 22.9877551 , 23.52181406,\n",
              "       24.07909297, 24.61315193, 25.17043084, 25.7044898 , 26.23854875,\n",
              "       26.74938776, 27.32988662, 27.86394558, 28.39800454, 28.88562358,\n",
              "       29.37324263, 29.86086168, 30.32526077, 30.83609977, 31.37015873,\n",
              "       31.90421769, 32.50793651, 33.06521542, 33.59927438])"
            ]
          },
          "metadata": {},
          "execution_count": 21
        }
      ]
    },
    {
      "cell_type": "code",
      "source": [
        "teaching_beats = extract_beats(\"/content/drive/MyDrive/dancebits/gMH_sFM_c01_d23_mMH3_ch11.wav\")"
      ],
      "metadata": {
        "id": "cPV6gegGFKD9"
      },
      "execution_count": 23,
      "outputs": []
    },
    {
      "cell_type": "code",
      "source": [
        "print(teaching_beats)"
      ],
      "metadata": {
        "colab": {
          "base_uri": "https://localhost:8080/"
        },
        "id": "TK7sGJ8TPgay",
        "outputId": "1f15abcf-688d-43e0-ae98-875d2d500ef7"
      },
      "execution_count": 54,
      "outputs": [
        {
          "output_type": "stream",
          "name": "stdout",
          "text": [
            "[ 0.60371882  1.13777778  1.69505669  2.22911565  2.7631746   3.32045351\n",
            "  3.87773243  4.41179138  4.96907029  5.50312925  6.06040816  6.59446712\n",
            "  7.12852608  7.68580499  8.2430839   8.77714286  9.33442177  9.86848073\n",
            " 10.40253968 10.95981859 11.49387755 12.05115646 12.60843537 13.14249433\n",
            " 13.67655329 14.2338322  14.76789116 15.32517007 15.85922902 16.41650794\n",
            " 16.97378685 17.5078458  18.04190476 18.59918367 19.13324263 19.69052154\n",
            " 20.2245805  20.78185941 21.33913832 21.87319728 22.40725624 22.96453515\n",
            " 23.4985941  24.05587302 24.58993197 25.14721088 25.7044898  26.23854875\n",
            " 26.74938776 27.26022676 27.79428571 28.28190476 28.76952381 29.32680272\n",
            " 29.9537415  30.44136054 30.9754195 ]\n"
          ]
        }
      ]
    },
    {
      "cell_type": "code",
      "source": [
        "type(teaching_beats)"
      ],
      "metadata": {
        "colab": {
          "base_uri": "https://localhost:8080/"
        },
        "id": "49vXe-kaHbk3",
        "outputId": "69f651b9-6d23-490e-f165-f8487fe6866e"
      },
      "execution_count": 33,
      "outputs": [
        {
          "output_type": "execute_result",
          "data": {
            "text/plain": [
              "numpy.ndarray"
            ]
          },
          "metadata": {},
          "execution_count": 33
        }
      ]
    },
    {
      "cell_type": "code",
      "source": [
        "import math"
      ],
      "metadata": {
        "id": "efmTR4yrGrmh"
      },
      "execution_count": 26,
      "outputs": []
    },
    {
      "cell_type": "code",
      "source": [
        "teaching_beats_frames = np.ceil(teaching_beats * 30)\n",
        "print(teaching_beats_frames)"
      ],
      "metadata": {
        "colab": {
          "base_uri": "https://localhost:8080/"
        },
        "id": "a0aA0P7kFakp",
        "outputId": "ac82ca07-abf7-4a30-b27d-a6bdda8260f0"
      },
      "execution_count": 35,
      "outputs": [
        {
          "output_type": "stream",
          "name": "stdout",
          "text": [
            "[  37.   69.  102.  134.  166.  200.  233.  265.  299.  331.  364.  396.\n",
            "  428.  462.  495.  527.  561.  593.  625.  658.  690.  724.  757.  789.\n",
            "  821.  855.  887.  920.  952.  985. 1019. 1051. 1083. 1116. 1148. 1182.\n",
            " 1214. 1247. 1281. 1313. 1345. 1378. 1410. 1444. 1476. 1509. 1543. 1575.\n",
            " 1605. 1636. 1668. 1697. 1727. 1760. 1798. 1827. 1859.]\n"
          ]
        }
      ]
    },
    {
      "cell_type": "code",
      "source": [
        "import pickle"
      ],
      "metadata": {
        "id": "33OTKMBkIvAl"
      },
      "execution_count": 36,
      "outputs": []
    },
    {
      "cell_type": "code",
      "source": [
        "# Open the pickle file in binary read mode\n",
        "with open('/content/drive/MyDrive/dancebits/PXL_20240924_061040585.TS.p', 'rb') as file:\n",
        "    # Load the contents of the file\n",
        "    cristina_data = pickle.load(file)"
      ],
      "metadata": {
        "id": "0YZD-v1oHChX"
      },
      "execution_count": 37,
      "outputs": []
    },
    {
      "cell_type": "code",
      "source": [
        "with open('/content/drive/MyDrive/dancebits/gMH_sFM_c01_d23_mMH3_ch11.p', 'rb') as file:\n",
        "    # Load the contents of the file\n",
        "    teaching_data = pickle.load(file)"
      ],
      "metadata": {
        "id": "bLeDI7DzI0EG"
      },
      "execution_count": 38,
      "outputs": []
    },
    {
      "cell_type": "code",
      "source": [
        "cristina_data['bone_vectors'].shape"
      ],
      "metadata": {
        "colab": {
          "base_uri": "https://localhost:8080/"
        },
        "id": "hGvAV5mPJCbs",
        "outputId": "129c46ff-f489-4cf3-9697-e30edeb0bed6"
      },
      "execution_count": 39,
      "outputs": [
        {
          "output_type": "execute_result",
          "data": {
            "text/plain": [
              "(1004, 70)"
            ]
          },
          "metadata": {},
          "execution_count": 39
        }
      ]
    },
    {
      "cell_type": "code",
      "source": [
        "teaching_data['bone_vectors'].shape"
      ],
      "metadata": {
        "colab": {
          "base_uri": "https://localhost:8080/"
        },
        "id": "baHRnHCYJQ6F",
        "outputId": "52304c58-5491-454d-cc93-dd6e0d322c1f"
      },
      "execution_count": 40,
      "outputs": [
        {
          "output_type": "execute_result",
          "data": {
            "text/plain": [
              "(1921, 70)"
            ]
          },
          "metadata": {},
          "execution_count": 40
        }
      ]
    },
    {
      "cell_type": "code",
      "source": [
        "vector_pairs_cristina = (cristina_data['bone_vectors']).copy()\n",
        "vector_pairs_teaching = (teaching_data['bone_vectors']).copy()"
      ],
      "metadata": {
        "id": "LnK-eb5qJUuZ"
      },
      "execution_count": 43,
      "outputs": []
    },
    {
      "cell_type": "code",
      "source": [
        "vector_pairs_cristina.shape"
      ],
      "metadata": {
        "colab": {
          "base_uri": "https://localhost:8080/"
        },
        "id": "Yc6VZIzqJvR6",
        "outputId": "d6fbf809-edbd-4ea9-d658-6386a815a93a"
      },
      "execution_count": 44,
      "outputs": [
        {
          "output_type": "execute_result",
          "data": {
            "text/plain": [
              "(1004, 70)"
            ]
          },
          "metadata": {},
          "execution_count": 44
        }
      ]
    },
    {
      "cell_type": "code",
      "source": [
        "vector_pairs_teaching.shape"
      ],
      "metadata": {
        "colab": {
          "base_uri": "https://localhost:8080/"
        },
        "id": "vjQmkQyxJyi3",
        "outputId": "21753ee3-7564-4925-97d3-27bd365d23db"
      },
      "execution_count": 45,
      "outputs": [
        {
          "output_type": "execute_result",
          "data": {
            "text/plain": [
              "(1921, 70)"
            ]
          },
          "metadata": {},
          "execution_count": 45
        }
      ]
    },
    {
      "cell_type": "code",
      "source": [
        "vectors_cristina = vector_pairs_cristina.reshape(1004, 35, 2)\n",
        "vectors_teaching = vector_pairs_teaching.reshape(1921, 35, 2)"
      ],
      "metadata": {
        "id": "YXrw6kQpKB88"
      },
      "execution_count": 48,
      "outputs": []
    },
    {
      "cell_type": "code",
      "source": [
        "vectors_cristina[0]"
      ],
      "metadata": {
        "colab": {
          "base_uri": "https://localhost:8080/"
        },
        "id": "brn0LUlAKQcx",
        "outputId": "c461fdbe-a974-45af-87e5-e37fa81730e1"
      },
      "execution_count": 49,
      "outputs": [
        {
          "output_type": "execute_result",
          "data": {
            "text/plain": [
              "array([[-0.19086258,  0.46213794],\n",
              "       [-0.12232871, -0.48480478],\n",
              "       [ 0.24451005, -0.43613625],\n",
              "       [ 0.48470125, -0.12273841],\n",
              "       [-0.06738564, -0.49543837],\n",
              "       [-0.3503713 ,  0.35670707],\n",
              "       [ 0.48549208,  0.11957186],\n",
              "       [ 0.44153562,  0.23461947],\n",
              "       [ 0.04673471,  0.49781108],\n",
              "       [ 0.46773162, -0.17671198],\n",
              "       [ 0.3313567 ,  0.37443656],\n",
              "       [-0.32236335,  0.3822066 ],\n",
              "       [ 0.28420913, -0.41136986],\n",
              "       [-0.41895625,  0.2729023 ],\n",
              "       [-0.4403542 ,  0.23682943],\n",
              "       [-0.24385986,  0.43650013],\n",
              "       [ 0.47413182,  0.15874194],\n",
              "       [-0.48015216,  0.13947724],\n",
              "       [-0.11448724, -0.4867162 ],\n",
              "       [-0.4262738 ,  0.2613248 ],\n",
              "       [ 0.32629395, -0.3788565 ],\n",
              "       [-0.44150692, -0.23467349],\n",
              "       [ 0.16621327,  0.47156456],\n",
              "       [-0.13878417,  0.48035294],\n",
              "       [ 0.10818632,  0.48815542],\n",
              "       [-0.01122126,  0.49987406],\n",
              "       [-0.17220393, -0.46941006],\n",
              "       [ 0.3817983 ,  0.32284683],\n",
              "       [ 0.3421492 ,  0.36460105],\n",
              "       [-0.31609914,  0.38740334],\n",
              "       [-0.49605322,  0.06269923],\n",
              "       [ 0.35167277, -0.35542408],\n",
              "       [-0.46473503,  0.1844488 ],\n",
              "       [ 0.48765948,  0.11040027],\n",
              "       [ 0.03188605,  0.49898225]], dtype=float32)"
            ]
          },
          "metadata": {},
          "execution_count": 49
        }
      ]
    },
    {
      "cell_type": "code",
      "source": [
        "vectors_teaching[0]"
      ],
      "metadata": {
        "colab": {
          "base_uri": "https://localhost:8080/"
        },
        "id": "VkH4EDv8LJl5",
        "outputId": "548ae75b-b4d6-4a2e-e0ce-10355a7687a9"
      },
      "execution_count": 50,
      "outputs": [
        {
          "output_type": "execute_result",
          "data": {
            "text/plain": [
              "array([[-0.37474048,  0.33101296],\n",
              "       [ 0.4676813 , -0.17684513],\n",
              "       [ 0.04631957, -0.49784988],\n",
              "       [ 0.45445108,  0.20850469],\n",
              "       [ 0.47071406,  0.16860689],\n",
              "       [ 0.01922071,  0.49963042],\n",
              "       [ 0.07380919,  0.49452218],\n",
              "       [-0.03096388,  0.4990403 ],\n",
              "       [ 0.11889993,  0.4856571 ],\n",
              "       [-0.49210027,  0.08852869],\n",
              "       [-0.02091865,  0.4995622 ],\n",
              "       [-0.05798398,  0.49662647],\n",
              "       [ 0.37487197, -0.330864  ],\n",
              "       [-0.44808415, -0.22185718],\n",
              "       [-0.4647654 , -0.18437222],\n",
              "       [ 0.3472683 ,  0.3597287 ],\n",
              "       [ 0.04124437,  0.498296  ],\n",
              "       [-0.49973392, -0.01630931],\n",
              "       [ 0.138226  , -0.48051387],\n",
              "       [-0.49785203, -0.04629643],\n",
              "       [ 0.4967126 ,  0.05724159],\n",
              "       [-0.10542907, -0.48875833],\n",
              "       [ 0.11796306,  0.4858855 ],\n",
              "       [-0.09191218,  0.49147955],\n",
              "       [-0.02600794,  0.49932313],\n",
              "       [-0.16070683,  0.47346944],\n",
              "       [ 0.39085197,  0.31182486],\n",
              "       [ 0.02553705,  0.49934742],\n",
              "       [-0.05386642,  0.49708995],\n",
              "       [ 0.01342569,  0.49981973],\n",
              "       [-0.28446022, -0.4111963 ],\n",
              "       [ 0.49812767, -0.04322981],\n",
              "       [-0.49843332,  0.03955033],\n",
              "       [-0.12225324,  0.48482382],\n",
              "       [-0.05351097,  0.49712834]], dtype=float32)"
            ]
          },
          "metadata": {},
          "execution_count": 50
        }
      ]
    },
    {
      "cell_type": "code",
      "source": [
        "vectors_teaching_downsample = vectors_teaching[::2]"
      ],
      "metadata": {
        "id": "Gq1lqkN8LRKX"
      },
      "execution_count": 51,
      "outputs": []
    },
    {
      "cell_type": "code",
      "source": [
        "vectors_teaching_downsample.shape"
      ],
      "metadata": {
        "colab": {
          "base_uri": "https://localhost:8080/"
        },
        "id": "k-_Dg8rwNEAA",
        "outputId": "07542128-55fa-4761-b6c3-2d492675116e"
      },
      "execution_count": 52,
      "outputs": [
        {
          "output_type": "execute_result",
          "data": {
            "text/plain": [
              "(961, 35, 2)"
            ]
          },
          "metadata": {},
          "execution_count": 52
        }
      ]
    },
    {
      "cell_type": "markdown",
      "source": [
        "first try:"
      ],
      "metadata": {
        "id": "NpvDRHo4QTR7"
      }
    },
    {
      "cell_type": "code",
      "source": [
        "cristina = vectors_cristina[771]"
      ],
      "metadata": {
        "id": "4m2DHiS6NHrQ"
      },
      "execution_count": 75,
      "outputs": []
    },
    {
      "cell_type": "code",
      "source": [
        "cristina.shape"
      ],
      "metadata": {
        "colab": {
          "base_uri": "https://localhost:8080/"
        },
        "id": "uFEzjawDQd7j",
        "outputId": "ba168985-3b61-434e-f7c8-cdca59211604"
      },
      "execution_count": 74,
      "outputs": [
        {
          "output_type": "execute_result",
          "data": {
            "text/plain": [
              "(35, 2)"
            ]
          },
          "metadata": {},
          "execution_count": 74
        }
      ]
    },
    {
      "cell_type": "code",
      "source": [
        "teaching = vectors_teaching_downsample[771]"
      ],
      "metadata": {
        "id": "AVgzHn9fQf_v"
      },
      "execution_count": 73,
      "outputs": []
    },
    {
      "cell_type": "code",
      "source": [
        "teaching.shape"
      ],
      "metadata": {
        "colab": {
          "base_uri": "https://localhost:8080/"
        },
        "id": "1pA7-dyVQsEI",
        "outputId": "909ddf6b-270f-47b3-ca71-37e6d917c61d"
      },
      "execution_count": 72,
      "outputs": [
        {
          "output_type": "execute_result",
          "data": {
            "text/plain": [
              "(35, 2)"
            ]
          },
          "metadata": {},
          "execution_count": 72
        }
      ]
    },
    {
      "cell_type": "code",
      "source": [
        "def cosine_similarity(vec1, vec2):\n",
        "    # Ensure the vectors are numpy arrays\n",
        "    vec1 = np.array(vec1)\n",
        "    vec2 = np.array(vec2)\n",
        "\n",
        "    # Compute the dot product\n",
        "    dot_product = np.dot(vec1, vec2)\n",
        "\n",
        "    # Compute the magnitudes (norms) of the vectors\n",
        "    norm_vec1 = np.linalg.norm(vec1)\n",
        "    norm_vec2 = np.linalg.norm(vec2)\n",
        "\n",
        "    # Compute the cosine similarity\n",
        "    similarity = dot_product / (norm_vec1 * norm_vec2)\n",
        "\n",
        "    return similarity"
      ],
      "metadata": {
        "id": "Ri8RyIHNQuCU"
      },
      "execution_count": 61,
      "outputs": []
    },
    {
      "cell_type": "code",
      "source": [
        "def average_cosine_similarity(list1, list2):\n",
        "    # Ensure both lists have the same length\n",
        "    if len(list1) != len(list2):\n",
        "        raise ValueError(\"The two lists must have the same number of vectors.\")\n",
        "\n",
        "    # Initialize a variable to store the sum of similarities\n",
        "    total_similarity = 0\n",
        "\n",
        "    # Loop over the vectors in both lists\n",
        "    for vec1, vec2 in zip(list1, list2):\n",
        "        total_similarity += cosine_similarity(vec1, vec2)\n",
        "\n",
        "    # Calculate the average similarity\n",
        "    average_similarity = total_similarity / len(list1)\n",
        "\n",
        "    return average_similarity"
      ],
      "metadata": {
        "id": "OQcPv9sIQ3p3"
      },
      "execution_count": 71,
      "outputs": []
    },
    {
      "cell_type": "code",
      "source": [
        "average_cosine_similarity(teaching, cristina)"
      ],
      "metadata": {
        "colab": {
          "base_uri": "https://localhost:8080/"
        },
        "id": "PK5pv4loQ8pA",
        "outputId": "56011ac1-ebb8-4eb7-c3e6-acc4453f494e"
      },
      "execution_count": 76,
      "outputs": [
        {
          "output_type": "execute_result",
          "data": {
            "text/plain": [
              "0.5266115742070334"
            ]
          },
          "metadata": {},
          "execution_count": 76
        }
      ]
    },
    {
      "cell_type": "code",
      "source": [
        "index_array = np.random.randint(0, 961, size=200)"
      ],
      "metadata": {
        "id": "9V5Zw36MRbDd"
      },
      "execution_count": 78,
      "outputs": []
    },
    {
      "cell_type": "code",
      "source": [
        "cristina_random_array = vectors_cristina[index_array]"
      ],
      "metadata": {
        "id": "TikT4EAcTzkS"
      },
      "execution_count": 79,
      "outputs": []
    },
    {
      "cell_type": "code",
      "source": [
        "cristina_random_array.shape"
      ],
      "metadata": {
        "colab": {
          "base_uri": "https://localhost:8080/"
        },
        "id": "n87GwSC5VAIq",
        "outputId": "0aaad3c2-cc58-495c-c0cd-3b157decff02"
      },
      "execution_count": 80,
      "outputs": [
        {
          "output_type": "execute_result",
          "data": {
            "text/plain": [
              "(200, 35, 2)"
            ]
          },
          "metadata": {},
          "execution_count": 80
        }
      ]
    },
    {
      "cell_type": "code",
      "source": [
        "teaching_random_array = vectors_teaching[index_array]"
      ],
      "metadata": {
        "id": "x7qtwbi4U8gp"
      },
      "execution_count": 81,
      "outputs": []
    },
    {
      "cell_type": "code",
      "source": [
        "teaching_random_array.shape"
      ],
      "metadata": {
        "colab": {
          "base_uri": "https://localhost:8080/"
        },
        "id": "O8SUHrvbVOUz",
        "outputId": "e75c074f-d0be-449c-e1d9-8d437071a72d"
      },
      "execution_count": 82,
      "outputs": [
        {
          "output_type": "execute_result",
          "data": {
            "text/plain": [
              "(200, 35, 2)"
            ]
          },
          "metadata": {},
          "execution_count": 82
        }
      ]
    },
    {
      "cell_type": "code",
      "source": [
        "# Function to apply the cosine similarity computation across all frames of the video\n",
        "def compute_similarity_for_all_frames(bone_vectors_uploaded, bone_vectors_teaching):\n",
        "    # Ensure both videos have the same number of frames\n",
        "    if len(bone_vectors_uploaded) != len(bone_vectors_teaching):\n",
        "        raise ValueError(\"The two videos must have the same number of frames.\")\n",
        "\n",
        "    frame_similarities = []\n",
        "\n",
        "    # Loop through each frame and compute the average similarity for the frame\n",
        "    for frame_idx in range(len(bone_vectors_uploaded)):\n",
        "        uploaded_frame = bone_vectors_uploaded[frame_idx]\n",
        "        teaching_frame = bone_vectors_teaching[frame_idx]\n",
        "\n",
        "        # Compute average cosine similarity for the frame\n",
        "        frame_similarity = average_cosine_similarity(uploaded_frame, teaching_frame)\n",
        "        frame_similarities.append(frame_similarity)\n",
        "\n",
        "    # Compute the overall average similarity across all frames\n",
        "    overall_similarity = np.mean(frame_similarities)\n",
        "\n",
        "    return overall_similarity"
      ],
      "metadata": {
        "id": "euR8mST0VSWG"
      },
      "execution_count": 85,
      "outputs": []
    },
    {
      "cell_type": "code",
      "source": [
        "compute_similarity_for_all_frames(teaching_random_array, cristina_random_array)"
      ],
      "metadata": {
        "colab": {
          "base_uri": "https://localhost:8080/"
        },
        "id": "E43BHvOaVeGv",
        "outputId": "97c4674f-f29e-4fce-e792-b4f0a9c8ade4"
      },
      "execution_count": 86,
      "outputs": [
        {
          "output_type": "execute_result",
          "data": {
            "text/plain": [
              "0.5253785632830903"
            ]
          },
          "metadata": {},
          "execution_count": 86
        }
      ]
    },
    {
      "cell_type": "markdown",
      "source": [
        "Alignment, delta /2 leveve Crist elejerol es vegerol"
      ],
      "metadata": {
        "id": "Iv0DC2mIXwrt"
      }
    },
    {
      "cell_type": "code",
      "source": [
        "vectors_cristina_delta = vectors_cristina[21:-21, :, :]"
      ],
      "metadata": {
        "id": "2Y0sh7J7XwUE"
      },
      "execution_count": 87,
      "outputs": []
    },
    {
      "cell_type": "code",
      "source": [
        "vectors_cristina_delta.shape"
      ],
      "metadata": {
        "colab": {
          "base_uri": "https://localhost:8080/"
        },
        "id": "0JNWOmojVpn9",
        "outputId": "00b29ad1-59d2-4c8d-cbad-93ff86e99589"
      },
      "execution_count": 88,
      "outputs": [
        {
          "output_type": "execute_result",
          "data": {
            "text/plain": [
              "(962, 35, 2)"
            ]
          },
          "metadata": {},
          "execution_count": 88
        }
      ]
    },
    {
      "cell_type": "code",
      "source": [
        "vectors_teaching_downsample.shape"
      ],
      "metadata": {
        "colab": {
          "base_uri": "https://localhost:8080/"
        },
        "id": "DxhOJwAoYJJx",
        "outputId": "29c1b38a-4b4e-4318-aa1d-e717e4368a10"
      },
      "execution_count": 89,
      "outputs": [
        {
          "output_type": "execute_result",
          "data": {
            "text/plain": [
              "(961, 35, 2)"
            ]
          },
          "metadata": {},
          "execution_count": 89
        }
      ]
    },
    {
      "cell_type": "code",
      "source": [
        "cristina_delta_random_array = vectors_cristina_delta[index_array]"
      ],
      "metadata": {
        "id": "cU09pjQ8YTFk"
      },
      "execution_count": 90,
      "outputs": []
    },
    {
      "cell_type": "code",
      "source": [
        "cristina_delta_random_array.shape"
      ],
      "metadata": {
        "colab": {
          "base_uri": "https://localhost:8080/"
        },
        "id": "K-uirk1RYfFT",
        "outputId": "b6c6c7f2-b095-4ba9-c6c9-487461d18371"
      },
      "execution_count": 91,
      "outputs": [
        {
          "output_type": "execute_result",
          "data": {
            "text/plain": [
              "(200, 35, 2)"
            ]
          },
          "metadata": {},
          "execution_count": 91
        }
      ]
    },
    {
      "cell_type": "code",
      "source": [
        "teaching_random_array.shape"
      ],
      "metadata": {
        "colab": {
          "base_uri": "https://localhost:8080/"
        },
        "id": "TYr6RlmNYheW",
        "outputId": "ee3a498b-4a7a-4718-8e79-62607814efb5"
      },
      "execution_count": 92,
      "outputs": [
        {
          "output_type": "execute_result",
          "data": {
            "text/plain": [
              "(200, 35, 2)"
            ]
          },
          "metadata": {},
          "execution_count": 92
        }
      ]
    },
    {
      "cell_type": "code",
      "source": [
        "compute_similarity_for_all_frames(teaching_random_array, cristina_delta_random_array)"
      ],
      "metadata": {
        "colab": {
          "base_uri": "https://localhost:8080/"
        },
        "id": "yjKKt0LZYraI",
        "outputId": "94487c98-49c6-464f-dddb-c1f71e121094"
      },
      "execution_count": 93,
      "outputs": [
        {
          "output_type": "execute_result",
          "data": {
            "text/plain": [
              "0.5342205923203229"
            ]
          },
          "metadata": {},
          "execution_count": 93
        }
      ]
    },
    {
      "cell_type": "markdown",
      "source": [
        "All"
      ],
      "metadata": {
        "id": "8Ys8oZwnZUJR"
      }
    },
    {
      "cell_type": "code",
      "source": [
        "vectors_teaching_downsample.shape"
      ],
      "metadata": {
        "colab": {
          "base_uri": "https://localhost:8080/"
        },
        "id": "rAskiRZGYxvt",
        "outputId": "3fe6e042-fb15-4c0f-cc13-b72e1c2b0e0e"
      },
      "execution_count": 94,
      "outputs": [
        {
          "output_type": "execute_result",
          "data": {
            "text/plain": [
              "(961, 35, 2)"
            ]
          },
          "metadata": {},
          "execution_count": 94
        }
      ]
    },
    {
      "cell_type": "code",
      "source": [
        "vectors_cristina_delta_all = vectors_cristina[21:-22, :, :]"
      ],
      "metadata": {
        "id": "eQ9kHSkvZcac"
      },
      "execution_count": 97,
      "outputs": []
    },
    {
      "cell_type": "code",
      "source": [
        "vectors_cristina_delta_all.shape"
      ],
      "metadata": {
        "colab": {
          "base_uri": "https://localhost:8080/"
        },
        "id": "CUYxjge9Zlv9",
        "outputId": "f3fffdb5-ff78-4ad1-c04f-67cf4ef77399"
      },
      "execution_count": 98,
      "outputs": [
        {
          "output_type": "execute_result",
          "data": {
            "text/plain": [
              "(961, 35, 2)"
            ]
          },
          "metadata": {},
          "execution_count": 98
        }
      ]
    },
    {
      "cell_type": "code",
      "source": [
        "compute_similarity_for_all_frames(vectors_teaching_downsample, vectors_cristina_delta_all)"
      ],
      "metadata": {
        "colab": {
          "base_uri": "https://localhost:8080/"
        },
        "id": "RBJj9BM1ZoMi",
        "outputId": "e71f9482-53de-4c6f-cf03-6c34952968e9"
      },
      "execution_count": 99,
      "outputs": [
        {
          "output_type": "execute_result",
          "data": {
            "text/plain": [
              "0.6228478433015514"
            ]
          },
          "metadata": {},
          "execution_count": 99
        }
      ]
    },
    {
      "cell_type": "code",
      "source": [
        "compute_similarity_for_all_frames(vectors_cristina_delta_all, vectors_cristina_delta_all)"
      ],
      "metadata": {
        "colab": {
          "base_uri": "https://localhost:8080/"
        },
        "id": "YOMF0NB-Z5tw",
        "outputId": "55470e8e-f7b9-41dc-db38-23b9b9e47380"
      },
      "execution_count": 101,
      "outputs": [
        {
          "output_type": "execute_result",
          "data": {
            "text/plain": [
              "1.000000027655421"
            ]
          },
          "metadata": {},
          "execution_count": 101
        }
      ]
    },
    {
      "cell_type": "code",
      "source": [],
      "metadata": {
        "id": "3ElpQpp7aFAY"
      },
      "execution_count": null,
      "outputs": []
    }
  ]
}